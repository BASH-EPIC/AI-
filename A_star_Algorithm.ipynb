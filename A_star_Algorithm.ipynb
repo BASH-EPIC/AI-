{
 "cells": [
  {
   "cell_type": "markdown",
   "metadata": {
    "id": "dB4_y4GBm0tt"
   },
   "source": [
    "# A-Star Search Algorithm"
   ]
  },
  {
   "cell_type": "markdown",
   "metadata": {
    "id": "hRmWMPwTm5Ob"
   },
   "source": [
    "This notebook complements the walkthrough article [here](https://towardsdatascience.com/a-star-a-search-algorithm-eb495fb156bb) on the A-Star search algorithm. Throughout the notebook, we ask to you finish sections on your own and answer questions."
   ]
  },
  {
   "cell_type": "markdown",
   "metadata": {
    "id": "auBnTGWHoMle"
   },
   "source": [
    "## [Question - Describe A*]\n",
    "Describe A* search in your own words.\n",
    "\n",
    "A* algorithm is used to find the shortest path. Example: Google maps. This algorithm is used for to reduced the cost of path or to save the timings.\n",
    "\n",
    "It's an advanced \" Breadth 1st search  algorithm[BFS]\", that prioroties the shortest routr that it can be reach 1st and other route.\n",
    "\n",
    "It's provides the optimal and compete route. optimal means it provides the best solution for the problem and compete means it finds all possible solution that exist for the problems.\n",
    "\n",
    "Also it takes computation effective and efficient."
   ]
  },
  {
   "cell_type": "code",
   "execution_count": 1,
   "metadata": {
    "ExecuteTime": {
     "end_time": "2022-06-06T14:06:59.927224Z",
     "start_time": "2022-06-06T14:06:59.911293Z"
    }
   },
   "outputs": [],
   "source": []
  },
  {
   "cell_type": "markdown",
   "metadata": {
    "id": "FsP7pSLAoooN"
   },
   "source": [
    "## [Question - Describe h and g]\n",
    "In A* search, describe the two key elements of *f(n)* (namely *h(n)* and *g(n)*). What do they represent in the algorithm and how do they differ?\n",
    "\n",
    "A* algorithm follow's the following formula:\n",
    "F = G + H.\n",
    "\n",
    "F helps to find the optimal path between source and destinatiin.\n",
    "G find out the distnaces that is moving one distance to another node.\n",
    "H find out the distnace of estimated node.\n"
   ]
  },
  {
   "cell_type": "code",
   "execution_count": null,
   "metadata": {},
   "outputs": [],
   "source": []
  },
  {
   "cell_type": "markdown",
   "metadata": {
    "id": "-_VkEgNWuMDK"
   },
   "source": [
    "## [Activity - run Node]\n",
    "Examine and run the below code."
   ]
  },
  {
   "cell_type": "code",
   "execution_count": 3,
   "metadata": {
    "ExecuteTime": {
     "end_time": "2022-06-07T13:27:30.506981Z",
     "start_time": "2022-06-07T13:27:30.486030Z"
    },
    "id": "ufRvBVJBmmxA"
   },
   "outputs": [],
   "source": [
    "\n",
    "class Node():\n",
    "    \"\"\"A node class for A* Pathfinding\"\"\"\n",
    "\n",
    "    def __init__(self, parent=None, position=None):\n",
    "        self.parent = parent\n",
    "        self.position = position\n",
    "\n",
    "        self.g = 0\n",
    "        self.h = 0\n",
    "        self.f = 0\n",
    "\n",
    "    def __eq__(self, other):\n",
    "        return self.position == other.position"
   ]
  },
  {
   "cell_type": "markdown",
   "metadata": {
    "id": "Ucsmb_lfuTrp"
   },
   "source": [
    "## [Question - Explain 'Node']\n",
    "In your own words, describe what the purpose of the *Node* class is. Why do we have to initialize a parent and a position?\n",
    "\n",
    "Node is a object where we want to stop or reach.\n",
    "\n",
    "The purpose Class ‘Node’ that can be used to create an object for every node with information as the parent node,position in the maze, and self values(g,h & f).\n",
    "\n",
    "we have to initialize a parent and a position so we'll get what was the cost of time to reach there and using these varibales we can find the previous track, currnet path.\n"
   ]
  },
  {
   "cell_type": "markdown",
   "metadata": {
    "id": "B6s0TVMuur8t"
   },
   "source": [
    "## [Activity - Run astar() ]"
   ]
  },
  {
   "cell_type": "code",
   "execution_count": 12,
   "metadata": {
    "ExecuteTime": {
     "end_time": "2022-06-07T22:26:41.909991Z",
     "start_time": "2022-06-07T22:26:41.895031Z"
    },
    "id": "wYzrkdjZpxZs"
   },
   "outputs": [],
   "source": [
    "class Node():\n",
    "    \"\"\"A node class for A* Pathfinding\"\"\"\n",
    "\n",
    "    def __init__(self, parent=None, position=None):\n",
    "        self.parent = parent\n",
    "        self.position = position\n",
    "\n",
    "        self.g = 0\n",
    "        self.h = 0\n",
    "        self.f = 0\n",
    "\n",
    "    def __eq__(self, other):\n",
    "        return self.position == other.position\n",
    "\n",
    "\n",
    "def astar(maze, start, end):\n",
    "    \"\"\"Returns a list of tuples as a path from the given start to the given end in the given maze\"\"\"\n",
    "\n",
    "    # Create start and end node\n",
    "    start_node = Node(None, start)\n",
    "    start_node.g = start_node.h = start_node.f = 0\n",
    "    end_node = Node(None, end)\n",
    "    end_node.g = end_node.h = end_node.f = 0\n",
    "\n",
    "    # Initialize both open and closed list\n",
    "    open_list = []\n",
    "    closed_list = []\n",
    "\n",
    "    # Add the start node\n",
    "    open_list.append(start_node)\n",
    "\n",
    "    # Loop until you find the end\n",
    "    while len(open_list) > 0:\n",
    "\n",
    "        # Get the current node\n",
    "        current_node = open_list[0]\n",
    "        current_index = 0\n",
    "        for index, item in enumerate(open_list):\n",
    "            if item.f < current_node.f:\n",
    "                current_node = item\n",
    "                current_index = index\n",
    "\n",
    "        # Pop current off open list, add to closed list\n",
    "        open_list.pop(current_index)\n",
    "        closed_list.append(current_node)\n",
    "\n",
    "        # Found the goal\n",
    "        if current_node == end_node:\n",
    "            path = []\n",
    "            current = current_node\n",
    "            while current is not None:\n",
    "                path.append(current.position)\n",
    "                current = current.parent\n",
    "            return path[::-1] # Return reversed path\n",
    "\n",
    "        # Generate children\n",
    "        children = []\n",
    "        for new_position in [(0, -1), (0, 1), (-1, 0), (1, 0), (-1, -1), (-1, 1), (1, -1), (1, 1)]: # Adjacent squares\n",
    "\n",
    "            # Get node position\n",
    "            node_position = (current_node.position[0] + new_position[0], current_node.position[1] + new_position[1])\n",
    "\n",
    "            # Make sure within range\n",
    "            if node_position[0] > (len(maze) - 1) or node_position[0] < 0 or node_position[1] > (len(maze[len(maze)-1]) -1) or node_position[1] < 0:\n",
    "                continue\n",
    "\n",
    "            # Make sure walkable terrain\n",
    "            if maze[node_position[0]][node_position[1]] != 0:\n",
    "                continue\n",
    "\n",
    "            # Create new node\n",
    "            new_node = Node(current_node, node_position)\n",
    "\n",
    "            # Append\n",
    "            children.append(new_node)\n",
    "\n",
    "        # Loop through children\n",
    "        for child in children:\n",
    "\n",
    "            # Child is on the closed list\n",
    "            for closed_child in closed_list:\n",
    "                if child == closed_child:\n",
    "                    continue\n",
    "\n",
    "            # Create the f, g, and h values\n",
    "            child.g = current_node.g + 1\n",
    "            child.h = ((child.position[0] - end_node.position[0]) ** 2) + ((child.position[1] - end_node.position[1]) ** 2)\n",
    "            child.f = child.g + child.h\n",
    "\n",
    "            # Child is already in the open list\n",
    "            for open_node in open_list:\n",
    "                if child == open_node and child.g > open_node.g:\n",
    "                    continue\n",
    "\n",
    "            # Add the child to the open list\n",
    "            open_list.append(child)\n",
    "\n",
    "\n",
    "            "
   ]
  },
  {
   "cell_type": "markdown",
   "metadata": {
    "id": "hral7UX2vF0z"
   },
   "source": [
    "## [Question - Explain maze]\n",
    "What type of input should value of *maze* be?\n",
    "\n",
    "maze is a block whicb haviung start position and end position . Maze is having a blocks which having start value and\n",
    "end value and in the blocks they created the shortest path.\n"
   ]
  },
  {
   "cell_type": "code",
   "execution_count": null,
   "metadata": {},
   "outputs": [],
   "source": [
    "\n",
    "\n"
   ]
  },
  {
   "cell_type": "markdown",
   "metadata": {
    "id": "EcB70Wbet1-w"
   },
   "source": [
    "## [Question - Build Main]\n",
    "Please use the above code that uses the astar() function to define a path from the beginning to the end of a maze. You can choose how the maze looks and where the start and end are."
   ]
  },
  {
   "cell_type": "code",
   "execution_count": 13,
   "metadata": {
    "ExecuteTime": {
     "end_time": "2022-06-07T22:26:45.420459Z",
     "start_time": "2022-06-07T22:26:45.405321Z"
    },
    "id": "MY8tTsSbt1XE"
   },
   "outputs": [
    {
     "name": "stdout",
     "output_type": "stream",
     "text": [
      "[(0, 0), (1, 1), (2, 2), (3, 3), (4, 3), (5, 4), (6, 5), (7, 6)]\n"
     ]
    }
   ],
   "source": [
    "## [Your Code Here]\n",
    "def main():\n",
    "\n",
    "    maze = [[0, 0, 0, 0, 1, 0, 0, 0, 0, 0],\n",
    "            [0, 0, 0, 0, 1, 0, 0, 0, 0, 0],\n",
    "            [0, 0, 0, 0, 1, 0, 0, 0, 0, 0],\n",
    "            [0, 0, 0, 0, 1, 0, 0, 0, 0, 0],\n",
    "            [0, 0, 0, 0, 1, 0, 0, 0, 0, 0],\n",
    "            [0, 0, 0, 0, 0, 0, 0, 0, 0, 0],\n",
    "            [0, 0, 0, 0, 1, 0, 0, 0, 0, 0],\n",
    "            [0, 0, 0, 0, 1, 0, 0, 0, 0, 0],\n",
    "            [0, 0, 0, 0, 1, 0, 0, 0, 0, 0],\n",
    "            [0, 0, 0, 0, 0, 0, 0, 0, 0, 0]]\n",
    "\n",
    "    start = (0, 0)\n",
    "    end = (7, 6)\n",
    "\n",
    "    path = astar(maze, start, end)\n",
    "    print(path)\n",
    "\n",
    "\n",
    "if __name__ == '__main__':\n",
    "    main()\n"
   ]
  },
  {
   "cell_type": "markdown",
   "metadata": {
    "id": "_t_M9LWSwc79"
   },
   "source": [
    "## [Question - Impossible Maze]\n",
    "Now create a maze that the algorithm cannot solve. What is the output of the algorithm?"
   ]
  },
  {
   "cell_type": "code",
   "execution_count": null,
   "metadata": {
    "ExecuteTime": {
     "start_time": "2022-06-07T22:27:50.394Z"
    },
    "id": "yoQ3fuVbwnuv"
   },
   "outputs": [],
   "source": [
    "## [Your Code Here]\n",
    "def main():\n",
    "    maze = [[0, 0, 0, 0, 1, 0, 0, 0, 0, 0],\n",
    "            [0, 0, 0, 0, 1, 0, 0, 0, 0, 0],\n",
    "            [0, 0, 0, 0, 1, 0, 0, 0, 0, 0],\n",
    "            [0, 0, 0, 0, 1, 0, 0, 0, 0, 0],\n",
    "            [0, 0, 0, 0, 1, 0, 0, 0, 0, 0],\n",
    "            [0, 0, 0, 0, 0, 0, 1, 0, 0, 0],\n",
    "            [0, 0, 0, 0, 1, 1, 1, 0, 0, 1],\n",
    "            [0, 0, 0, 0, 1, 0, 0, 0, 1, 1],\n",
    "            [0, 0, 0, 0, 0, 0, 1, 1, 1, 0],\n",
    "            [0, 0, 0, 0, 0, 0, 0, 0, 0, 0]]\n",
    "    \n",
    "    start = (0, 0)\n",
    "    end = (10, 10)\n",
    "\n",
    "    path = astar(maze, start, end)\n",
    "    print(path)\n",
    "\n",
    "\n",
    "if __name__ == '__main__':\n",
    "    main()\n"
   ]
  },
  {
   "cell_type": "code",
   "execution_count": null,
   "metadata": {},
   "outputs": [],
   "source": [
    "I think so 10 by 10 maze is quite diffivuly thinko undersyand as ist's taking more time to run the code.\n"
   ]
  }
 ],
 "metadata": {
  "colab": {
   "collapsed_sections": [],
   "name": "eai6000-m02-hw.ipynb",
   "provenance": [],
   "toc_visible": true
  },
  "kernelspec": {
   "display_name": "Python 3",
   "language": "python",
   "name": "python3"
  },
  "language_info": {
   "codemirror_mode": {
    "name": "ipython",
    "version": 3
   },
   "file_extension": ".py",
   "mimetype": "text/x-python",
   "name": "python",
   "nbconvert_exporter": "python",
   "pygments_lexer": "ipython3",
   "version": "3.8.8"
  }
 },
 "nbformat": 4,
 "nbformat_minor": 1
}
