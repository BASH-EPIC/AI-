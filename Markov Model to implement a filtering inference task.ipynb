{
 "cells": [
  {
   "cell_type": "markdown",
   "metadata": {
    "id": "ptowb9ItHGHf"
   },
   "source": [
    "# Weather Model"
   ]
  },
  {
   "cell_type": "markdown",
   "metadata": {
    "id": "Xzbe41iVrdkn"
   },
   "source": [
    "## Directions\n",
    "\n",
    "For this project, you will need to implement a filtering  inference task on an HMM. These are described in Section 15.2 of the text.\n",
    "\n",
    "Denote the hidden states of the HMM by `S(t)` and the observations (evidence) by `E(t)`. In the weather problem from the HMM Tutorial, X(t) would be either sunny, rainy, or foggy, and `E(t)` is yes or no to indicate if an umbrella was observed. We will use this model with prior probabilities P(sunny) = 0.5, P(rainy) = 0.25, P(foggy) = 0.25. The remaining probilities you need are specified below in the emisssion (`P_emission`) and transition matrices (`P_transition`).\n",
    "\n",
    "## What you need to do\n",
    "\n",
    "You will need to fill in the missing implementations of the following functions in the code where specified by the comments (`### YOUR CODE HERE ###`) and answer the questions where indicated.\n",
    "\n",
    "In implementing the code for the filtering task, you will be computing the probability of rain given the observations of the umbrella."
   ]
  },
  {
   "cell_type": "markdown",
   "metadata": {
    "id": "lgFmif62JksI"
   },
   "source": [
    "## Probability Definitions\n",
    "Below you will find:\n",
    "- `P_init`: The initial probabilities of the weather state, whether sunny (0), rainy (1) or foggy (2) \n",
    "- `P_transition`: The transition probabilities or the probability that one weather state one day transitions to another weather state \n",
    "- `P_emission`: The 'emission' probabilities or the probabilities that an observation is made, conditioned on the underlying state."
   ]
  },
  {
   "cell_type": "code",
   "execution_count": 1,
   "metadata": {
    "ExecuteTime": {
     "end_time": "2022-06-21T23:52:15.402276Z",
     "start_time": "2022-06-21T23:52:15.295555Z"
    },
    "id": "t3cwslrxsF_q"
   },
   "outputs": [],
   "source": [
    "### DO NOT CHANGE ###\n",
    "\n",
    "import numpy as np\n",
    "\n",
    "# prior probability on weather states\n",
    "# P(sunny) = 0.5  P(rainy) = 0.25  P(foggy) = 0.25\n",
    "P_init = np.array([0.5, 0.25, 0.25])\n",
    "\n",
    "# states (0=sunny, 1=rainy, 2=foggy)\n",
    "S = [0, 1, 2]\n",
    "\n",
    "# transition probabilities\n",
    "#                    tomorrrow\n",
    "#    today     sunny  rainy  foggy\n",
    "#    sunny      0.8    0.05   0.15\n",
    "#    rainy      0.2    0.6    0.2 \n",
    "#    foggy      0.2    0.3    0.5\n",
    "P_transition = np.array([ [0.8, 0.05, 0.15], [0.2, 0.6, 0.2], [0.2, 0.3, 0.5] ])\n",
    "\n",
    "# conditional probabilities of evidence (observations) given weather\n",
    "#                            sunny  rainy  foggy \n",
    "# P(weather | umbrella=no)    0.9    0.2    0.7\n",
    "# P(weather | umbrella=yes)   0.1    0.8    0.3\n",
    "P_emission = np.array([ [0.9, 0.2, 0.7], [0.1, 0.8, 0.3] ])"
   ]
  },
  {
   "cell_type": "code",
   "execution_count": 2,
   "metadata": {
    "ExecuteTime": {
     "end_time": "2022-06-21T23:52:16.099705Z",
     "start_time": "2022-06-21T23:52:16.089732Z"
    }
   },
   "outputs": [
    {
     "data": {
      "text/plain": [
       "array([[0.9, 0.2, 0.7],\n",
       "       [0.1, 0.8, 0.3]])"
      ]
     },
     "execution_count": 2,
     "metadata": {},
     "output_type": "execute_result"
    }
   ],
   "source": [
    "P_emission"
   ]
  },
  {
   "cell_type": "code",
   "execution_count": 3,
   "metadata": {
    "ExecuteTime": {
     "end_time": "2022-06-21T23:52:17.240477Z",
     "start_time": "2022-06-21T23:52:17.153509Z"
    }
   },
   "outputs": [
    {
     "name": "stderr",
     "output_type": "stream",
     "text": [
      "fatal: destination path 'aima-python' already exists and is not an empty directory.\n"
     ]
    }
   ],
   "source": [
    "!git clone https://github.com/aimacode/aima-python"
   ]
  },
  {
   "cell_type": "code",
   "execution_count": 4,
   "metadata": {
    "ExecuteTime": {
     "end_time": "2022-06-21T23:52:18.021521Z",
     "start_time": "2022-06-21T23:52:17.938714Z"
    }
   },
   "outputs": [
    {
     "name": "stderr",
     "output_type": "stream",
     "text": [
      "fatal: destination path 'aima-data' already exists and is not an empty directory.\n"
     ]
    }
   ],
   "source": [
    "!git clone https://github.com/aimacode/aima-data"
   ]
  },
  {
   "cell_type": "code",
   "execution_count": 5,
   "metadata": {
    "ExecuteTime": {
     "end_time": "2022-06-21T23:52:20.756934Z",
     "start_time": "2022-06-21T23:52:18.588006Z"
    }
   },
   "outputs": [
    {
     "name": "stdout",
     "output_type": "stream",
     "text": [
      "Requirement already satisfied: ipythonblocks in c:\\users\\prajakta sable\\anaconda3\\lib\\site-packages (1.9.0)\n",
      "Requirement already satisfied: ipython>=4.0 in c:\\users\\prajakta sable\\anaconda3\\lib\\site-packages (from ipythonblocks) (7.22.0)\n",
      "Requirement already satisfied: notebook>=4.0 in c:\\users\\prajakta sable\\anaconda3\\lib\\site-packages (from ipythonblocks) (6.3.0)\n",
      "Requirement already satisfied: requests>=1.0 in c:\\users\\prajakta sable\\anaconda3\\lib\\site-packages (from ipythonblocks) (2.25.1)\n",
      "Requirement already satisfied: colorama in c:\\users\\prajakta sable\\anaconda3\\lib\\site-packages (from ipython>=4.0->ipythonblocks) (0.4.4)\n",
      "Requirement already satisfied: traitlets>=4.2 in c:\\users\\prajakta sable\\anaconda3\\lib\\site-packages (from ipython>=4.0->ipythonblocks) (5.0.5)\n",
      "Requirement already satisfied: jedi>=0.16 in c:\\users\\prajakta sable\\anaconda3\\lib\\site-packages (from ipython>=4.0->ipythonblocks) (0.17.2)\n",
      "Requirement already satisfied: pygments in c:\\users\\prajakta sable\\anaconda3\\lib\\site-packages (from ipython>=4.0->ipythonblocks) (2.8.1)\n",
      "Requirement already satisfied: pickleshare in c:\\users\\prajakta sable\\anaconda3\\lib\\site-packages (from ipython>=4.0->ipythonblocks) (0.7.5)\n",
      "Requirement already satisfied: setuptools>=18.5 in c:\\users\\prajakta sable\\anaconda3\\lib\\site-packages (from ipython>=4.0->ipythonblocks) (52.0.0.post20210125)\n",
      "Requirement already satisfied: prompt-toolkit!=3.0.0,!=3.0.1,<3.1.0,>=2.0.0 in c:\\users\\prajakta sable\\anaconda3\\lib\\site-packages (from ipython>=4.0->ipythonblocks) (3.0.17)\n",
      "Requirement already satisfied: decorator in c:\\users\\prajakta sable\\anaconda3\\lib\\site-packages (from ipython>=4.0->ipythonblocks) (5.0.6)\n",
      "Requirement already satisfied: backcall in c:\\users\\prajakta sable\\anaconda3\\lib\\site-packages (from ipython>=4.0->ipythonblocks) (0.2.0)\n",
      "Requirement already satisfied: parso<0.8.0,>=0.7.0 in c:\\users\\prajakta sable\\anaconda3\\lib\\site-packages (from jedi>=0.16->ipython>=4.0->ipythonblocks) (0.7.0)\n",
      "Requirement already satisfied: terminado>=0.8.3 in c:\\users\\prajakta sable\\anaconda3\\lib\\site-packages (from notebook>=4.0->ipythonblocks) (0.9.4)\n",
      "Requirement already satisfied: tornado>=6.1 in c:\\users\\prajakta sable\\anaconda3\\lib\\site-packages (from notebook>=4.0->ipythonblocks) (6.1)\n",
      "Requirement already satisfied: ipython-genutils in c:\\users\\prajakta sable\\anaconda3\\lib\\site-packages (from notebook>=4.0->ipythonblocks) (0.2.0)\n",
      "Requirement already satisfied: Send2Trash>=1.5.0 in c:\\users\\prajakta sable\\anaconda3\\lib\\site-packages (from notebook>=4.0->ipythonblocks) (1.5.0)\n",
      "Requirement already satisfied: nbconvert in c:\\users\\prajakta sable\\anaconda3\\lib\\site-packages (from notebook>=4.0->ipythonblocks) (6.0.7)\n",
      "Requirement already satisfied: argon2-cffi in c:\\users\\prajakta sable\\anaconda3\\lib\\site-packages (from notebook>=4.0->ipythonblocks) (20.1.0)\n",
      "Requirement already satisfied: pyzmq>=17 in c:\\users\\prajakta sable\\anaconda3\\lib\\site-packages (from notebook>=4.0->ipythonblocks) (20.0.0)\n",
      "Requirement already satisfied: ipykernel in c:\\users\\prajakta sable\\anaconda3\\lib\\site-packages (from notebook>=4.0->ipythonblocks) (5.3.4)\n",
      "Requirement already satisfied: prometheus-client in c:\\users\\prajakta sable\\anaconda3\\lib\\site-packages (from notebook>=4.0->ipythonblocks) (0.10.1)\n",
      "Requirement already satisfied: jinja2 in c:\\users\\prajakta sable\\anaconda3\\lib\\site-packages (from notebook>=4.0->ipythonblocks) (2.11.3)\n",
      "Requirement already satisfied: jupyter-client>=5.3.4 in c:\\users\\prajakta sable\\anaconda3\\lib\\site-packages (from notebook>=4.0->ipythonblocks) (6.1.12)\n",
      "Requirement already satisfied: jupyter-core>=4.6.1 in c:\\users\\prajakta sable\\anaconda3\\lib\\site-packages (from notebook>=4.0->ipythonblocks) (4.7.1)\n",
      "Requirement already satisfied: nbformat in c:\\users\\prajakta sable\\anaconda3\\lib\\site-packages (from notebook>=4.0->ipythonblocks) (5.1.3)\n",
      "Requirement already satisfied: python-dateutil>=2.1 in c:\\users\\prajakta sable\\anaconda3\\lib\\site-packages (from jupyter-client>=5.3.4->notebook>=4.0->ipythonblocks) (2.8.1)\n",
      "Requirement already satisfied: pywin32>=1.0 in c:\\users\\prajakta sable\\anaconda3\\lib\\site-packages (from jupyter-core>=4.6.1->notebook>=4.0->ipythonblocks) (227)\n",
      "Requirement already satisfied: wcwidth in c:\\users\\prajakta sable\\anaconda3\\lib\\site-packages (from prompt-toolkit!=3.0.0,!=3.0.1,<3.1.0,>=2.0.0->ipython>=4.0->ipythonblocks) (0.2.5)\n",
      "Requirement already satisfied: six>=1.5 in c:\\users\\prajakta sable\\anaconda3\\lib\\site-packages (from python-dateutil>=2.1->jupyter-client>=5.3.4->notebook>=4.0->ipythonblocks) (1.15.0)\n",
      "Requirement already satisfied: urllib3<1.27,>=1.21.1 in c:\\users\\prajakta sable\\anaconda3\\lib\\site-packages (from requests>=1.0->ipythonblocks) (1.26.4)\n",
      "Requirement already satisfied: certifi>=2017.4.17 in c:\\users\\prajakta sable\\anaconda3\\lib\\site-packages (from requests>=1.0->ipythonblocks) (2020.12.5)\n",
      "Requirement already satisfied: idna<3,>=2.5 in c:\\users\\prajakta sable\\anaconda3\\lib\\site-packages (from requests>=1.0->ipythonblocks) (2.10)\n",
      "Requirement already satisfied: chardet<5,>=3.0.2 in c:\\users\\prajakta sable\\anaconda3\\lib\\site-packages (from requests>=1.0->ipythonblocks) (4.0.0)\n",
      "Requirement already satisfied: pywinpty>=0.5 in c:\\users\\prajakta sable\\anaconda3\\lib\\site-packages (from terminado>=0.8.3->notebook>=4.0->ipythonblocks) (0.5.7)\n",
      "Requirement already satisfied: cffi>=1.0.0 in c:\\users\\prajakta sable\\anaconda3\\lib\\site-packages (from argon2-cffi->notebook>=4.0->ipythonblocks) (1.14.5)\n",
      "Requirement already satisfied: pycparser in c:\\users\\prajakta sable\\anaconda3\\lib\\site-packages (from cffi>=1.0.0->argon2-cffi->notebook>=4.0->ipythonblocks) (2.20)\n",
      "Requirement already satisfied: MarkupSafe>=0.23 in c:\\users\\prajakta sable\\anaconda3\\lib\\site-packages (from jinja2->notebook>=4.0->ipythonblocks) (1.1.1)\n",
      "Requirement already satisfied: pandocfilters>=1.4.1 in c:\\users\\prajakta sable\\anaconda3\\lib\\site-packages (from nbconvert->notebook>=4.0->ipythonblocks) (1.4.3)\n",
      "Requirement already satisfied: jupyterlab-pygments in c:\\users\\prajakta sable\\anaconda3\\lib\\site-packages (from nbconvert->notebook>=4.0->ipythonblocks) (0.1.2)\n",
      "Requirement already satisfied: mistune<2,>=0.8.1 in c:\\users\\prajakta sable\\anaconda3\\lib\\site-packages (from nbconvert->notebook>=4.0->ipythonblocks) (0.8.4)\n",
      "Requirement already satisfied: defusedxml in c:\\users\\prajakta sable\\anaconda3\\lib\\site-packages (from nbconvert->notebook>=4.0->ipythonblocks) (0.7.1)\n",
      "Requirement already satisfied: testpath in c:\\users\\prajakta sable\\anaconda3\\lib\\site-packages (from nbconvert->notebook>=4.0->ipythonblocks) (0.4.4)\n",
      "Requirement already satisfied: nbclient<0.6.0,>=0.5.0 in c:\\users\\prajakta sable\\anaconda3\\lib\\site-packages (from nbconvert->notebook>=4.0->ipythonblocks) (0.5.3)\n",
      "Requirement already satisfied: entrypoints>=0.2.2 in c:\\users\\prajakta sable\\anaconda3\\lib\\site-packages (from nbconvert->notebook>=4.0->ipythonblocks) (0.3)\n",
      "Requirement already satisfied: bleach in c:\\users\\prajakta sable\\anaconda3\\lib\\site-packages (from nbconvert->notebook>=4.0->ipythonblocks) (3.3.0)\n",
      "Requirement already satisfied: nest-asyncio in c:\\users\\prajakta sable\\anaconda3\\lib\\site-packages (from nbclient<0.6.0,>=0.5.0->nbconvert->notebook>=4.0->ipythonblocks) (1.5.1)\n",
      "Requirement already satisfied: async-generator in c:\\users\\prajakta sable\\anaconda3\\lib\\site-packages (from nbclient<0.6.0,>=0.5.0->nbconvert->notebook>=4.0->ipythonblocks) (1.10)\n",
      "Requirement already satisfied: jsonschema!=2.5.0,>=2.4 in c:\\users\\prajakta sable\\anaconda3\\lib\\site-packages (from nbformat->notebook>=4.0->ipythonblocks) (3.2.0)\n",
      "Requirement already satisfied: pyrsistent>=0.14.0 in c:\\users\\prajakta sable\\anaconda3\\lib\\site-packages (from jsonschema!=2.5.0,>=2.4->nbformat->notebook>=4.0->ipythonblocks) (0.17.3)\n",
      "Requirement already satisfied: attrs>=17.4.0 in c:\\users\\prajakta sable\\anaconda3\\lib\\site-packages (from jsonschema!=2.5.0,>=2.4->nbformat->notebook>=4.0->ipythonblocks) (20.3.0)\n",
      "Requirement already satisfied: webencodings in c:\\users\\prajakta sable\\anaconda3\\lib\\site-packages (from bleach->nbconvert->notebook>=4.0->ipythonblocks) (0.5.1)\n",
      "Requirement already satisfied: packaging in c:\\users\\prajakta sable\\anaconda3\\lib\\site-packages (from bleach->nbconvert->notebook>=4.0->ipythonblocks) (20.9)\n",
      "Requirement already satisfied: pyparsing>=2.0.2 in c:\\users\\prajakta sable\\anaconda3\\lib\\site-packages (from packaging->bleach->nbconvert->notebook>=4.0->ipythonblocks) (2.4.7)\n"
     ]
    }
   ],
   "source": [
    "!pip install ipythonblocks"
   ]
  },
  {
   "cell_type": "code",
   "execution_count": 6,
   "metadata": {
    "ExecuteTime": {
     "end_time": "2022-06-21T23:52:20.772077Z",
     "start_time": "2022-06-21T23:52:20.758899Z"
    }
   },
   "outputs": [
    {
     "data": {
      "text/plain": [
       "'C:\\\\Users\\\\Prajakta Sable\\\\Downloads'"
      ]
     },
     "execution_count": 6,
     "metadata": {},
     "output_type": "execute_result"
    }
   ],
   "source": [
    "pwd"
   ]
  },
  {
   "cell_type": "code",
   "execution_count": 7,
   "metadata": {
    "ExecuteTime": {
     "end_time": "2022-06-21T23:52:20.788178Z",
     "start_time": "2022-06-21T23:52:20.774078Z"
    }
   },
   "outputs": [],
   "source": [
    "import sys\n",
    "sys.path.insert(0, 'C:\\\\Users\\\\Prajakta Sable\\\\Downloads\\\\aima-python')\n",
    "from probability import *"
   ]
  },
  {
   "cell_type": "markdown",
   "metadata": {
    "id": "PYM2_QgTKEZ2"
   },
   "source": [
    "### [Question - State Transitions]\n",
    "\n",
    "\n",
    "If today is sunny what is the most likely forecast for the next two days if you have no umbrella observations to work with?"
   ]
  },
  {
   "cell_type": "code",
   "execution_count": 8,
   "metadata": {
    "ExecuteTime": {
     "end_time": "2022-06-21T23:52:24.986316Z",
     "start_time": "2022-06-21T23:52:24.975520Z"
    }
   },
   "outputs": [
    {
     "data": {
      "text/plain": [
       "array([0.1, 0.8, 0.3])"
      ]
     },
     "execution_count": 8,
     "metadata": {},
     "output_type": "execute_result"
    }
   ],
   "source": [
    "#print(### YOUR CODE HERE ###) ## please enter your answer in the print statement \n",
    "hmm = HiddenMarkovModel(P_transition,P_emission)\n",
    "hmm.sensor_dist(ev=False)"
   ]
  },
  {
   "cell_type": "code",
   "execution_count": 9,
   "metadata": {
    "ExecuteTime": {
     "end_time": "2022-06-21T23:52:25.914611Z",
     "start_time": "2022-06-21T23:52:25.901693Z"
    }
   },
   "outputs": [
    {
     "name": "stdout",
     "output_type": "stream",
     "text": [
      "The Most Likely forecast for next two days is Sunny with a probality of 0.86 and 0.86 respectively.\n"
     ]
    }
   ],
   "source": [
    "today= [1,0,0] # sunny\n",
    "tomorrow = forward(hmm,today,ev=True)\n",
    "nextDay = forward(hmm,tomorrow,ev=True)\n",
    "print(f\"The Most Likely forecast for next two days is Sunny with a probality of {round(tomorrow[0],2)} and {round(nextDay[0],2)} respectively.\")  ## please enter your answer in the print statement\n"
   ]
  },
  {
   "cell_type": "markdown",
   "metadata": {
    "id": "EP1-dHpnK_kn"
   },
   "source": [
    "### [Question - Emission probabilities ]\n",
    "If on the first day you see no umbrella, what is the probability that it is rainy, foggy or sunny (Hint: remember the importance of overall probability of each state)?\n",
    "\n",
    "What is the most likely weather (hidden state)?"
   ]
  },
  {
   "cell_type": "code",
   "execution_count": 10,
   "metadata": {
    "ExecuteTime": {
     "end_time": "2022-06-21T23:52:27.472458Z",
     "start_time": "2022-06-21T23:52:27.461487Z"
    },
    "colab": {
     "base_uri": "https://localhost:8080/",
     "height": 131
    },
    "id": "cME3l65bLcjm",
    "outputId": "449cbf38-0699-45d1-a692-3052860c769f"
   },
   "outputs": [
    {
     "name": "stdout",
     "output_type": "stream",
     "text": [
      "The most likely weather on the first day is ...\" sunny with\n",
      "      0.77probabilty\n"
     ]
    }
   ],
   "source": [
    "P_state_day0_given_umbrella = forward(hmm,P_init,ev=True)\n",
    "weather_prob = dict(zip(P_state_day0_given_umbrella, ['sunny','rainy','foggy']))\n",
    "weather_prob[max(weather_prob.keys())]\n",
    "print(f'''The most likely weather on the first day is ...\" {weather_prob[max(weather_prob.keys())]} with\n",
    "      {round(max(weather_prob.keys()),2)}probabilty''')"
   ]
  },
  {
   "cell_type": "markdown",
   "metadata": {
    "id": "6chDNxazJh4w"
   },
   "source": [
    "### Evidence / observations\n",
    "\n",
    "Now we will define the observations on each day - whether we observed an umbrella (1) or not (0). \n"
   ]
  },
  {
   "cell_type": "code",
   "execution_count": 11,
   "metadata": {
    "ExecuteTime": {
     "end_time": "2022-06-21T23:52:28.682415Z",
     "start_time": "2022-06-21T23:52:28.669078Z"
    },
    "id": "2sTDhFyECedd"
   },
   "outputs": [],
   "source": [
    "### DO NOT CHANGE ###\n",
    "\n",
    "## 0 = no umbrella, 1 = umbrella\n",
    "E = [0, 0, 0, 1, 0, 0, 1, 1, 0, 1]"
   ]
  },
  {
   "cell_type": "markdown",
   "metadata": {
    "id": "43OFPj-erMWJ"
   },
   "source": [
    "## Filtering\n",
    "\n",
    "*As a reminder*\n",
    "\n",
    "**Filtering**:\n",
    "Given observation sequence E(0), E(1), ..., E(T-1), compute P(X(T-1)|E(0), ..., E(T-1)).\n",
    "\n",
    "So we are computing the probability of the final state given our observations or evidence to date.\n",
    "\n",
    "We do this with the *Forward Algorithm* (see 15.2 in the text), which requires that we initialize probabilities at the first step using our 'prior' probability values of each underlying state. Then we update probabilities at each step (`Recursion`) using the prior step probabilities and given new evidence. We do this until we reach the end and then compute the total probability of each underlying state at the finel step."
   ]
  },
  {
   "cell_type": "markdown",
   "metadata": {
    "id": "Hw-UXGgV0fOP"
   },
   "source": [
    "### Recursion (and initialization) function definition"
   ]
  },
  {
   "cell_type": "code",
   "execution_count": 12,
   "metadata": {
    "ExecuteTime": {
     "end_time": "2022-06-21T23:52:30.052411Z",
     "start_time": "2022-06-21T23:52:30.038443Z"
    },
    "id": "WqYrklx1xETE"
   },
   "outputs": [],
   "source": [
    "### DO NOT CHANGE ###\n",
    "\n",
    "# Normalize a probability distribution\n",
    "def normalize(pdist):\n",
    "   s = sum(pdist)\n",
    "   for i in range(0,len(pdist)):\n",
    "      pdist[i] = pdist[i] / s\n",
    "   return pdist\n",
    "\n",
    "DEBUG=True\n",
    "\n",
    "def init_and_recursion(Obs, S, init_prob, P_emission, P_transition):\n",
    "  ## a has a \"row\" for every observation and a \"column\" for every possible state\n",
    "  a = np.zeros((len(Obs), len(S)))\n",
    "  for t in range(0, len(Obs)):\n",
    "    print(f\".. (time {t}) Observation: {Obs[t]}\")\n",
    "    ## probability of a[0,:] is computed by summing over probabilities of all the \n",
    "    ## ways we could get to this \"path\" given where we left off at the previous\n",
    "    ## time step\n",
    "    if t == 0:\n",
    "      ##### Initialization\n",
    "      for j in range(len(S)):\n",
    "        #print(f\"t={t}, j={j}, S[j]={S[j]}, Obs[t]={Obs[t]}\")\n",
    "        a[t, j] = init_prob[j] * P_emission[Obs[t], S[j]]\n",
    "        current_state_total_prob = a[t, j]\n",
    "        print(f\".... Probability at state {S[j]}: {current_state_total_prob:.4f} (initial state)\")\n",
    "    else:    \n",
    "      ## we need to compute a probability for each of the possible states\n",
    "      for j in range(len(S)): ## for each of the present states\n",
    "        S_curr = S[j]\n",
    "        ## we need to sum over all of the previous states to get current state prob\n",
    "        ## we'll keep track of that probability to sum up here\n",
    "        current_state_total_prob = 0.0\n",
    "        for k in range(len(S)): ## for each of the possible previous states\n",
    "          S_prev = S[k] ## possible previous state that we came from\n",
    "          if DEBUG:\n",
    "            print(f\"......Transition from state={S_prev} to state={S_prev}\")\n",
    "            print(f\"        Calculation: \")\n",
    "            print(f\"        {a[t-1, k]:.2f} * {P_emission[Obs[t], S[j]]:.2f} * {P_transition[S_prev, S_curr]:.2f}\")\n",
    "          current_state_total_prob += a[t-1, k] * P_emission[Obs[t], S[j]] * P_transition[S_prev, S_curr]\n",
    "        a[t, j] = current_state_total_prob\n",
    "    a[t,:] = normalize(a[t,:])\n",
    "    print(f\".... State probabilities: {a[t, :]}\")\n",
    "  return a"
   ]
  },
  {
   "cell_type": "markdown",
   "metadata": {
    "id": "R9w5b_dy0k-u"
   },
   "source": [
    "### Termination function definition"
   ]
  },
  {
   "cell_type": "code",
   "execution_count": 13,
   "metadata": {
    "ExecuteTime": {
     "end_time": "2022-06-21T23:52:31.127880Z",
     "start_time": "2022-06-21T23:52:31.122873Z"
    },
    "id": "eaZ6eXNxxzjR"
   },
   "outputs": [],
   "source": [
    "### DO NOT CHANGE ###\n",
    "\n",
    "def termination(a):\n",
    "  total_ending_prob = 0\n",
    "  T = a.shape[0]-1 ## last time point\n",
    "  for i in range(len(a[T, :])):\n",
    "    total_ending_prob += a[T, i]\n",
    "  print(f\"\\nProbability of each potential state: {a[T]}\")"
   ]
  },
  {
   "cell_type": "markdown",
   "metadata": {
    "id": "HgSvmWiGPHof"
   },
   "source": [
    "### [Question - Final state]\n",
    "What is the most likely final state (most likely weather)? How much more likely is the final weather than the other two options?\n",
    "\n",
    "Use the above recursion and initialization function to compute the most likely state at the end (the filtering problem)."
   ]
  },
  {
   "cell_type": "code",
   "execution_count": 14,
   "metadata": {
    "ExecuteTime": {
     "end_time": "2022-06-21T23:52:32.393391Z",
     "start_time": "2022-06-21T23:52:32.221746Z"
    },
    "id": "f6XyS-8pPS5z"
   },
   "outputs": [
    {
     "name": "stdout",
     "output_type": "stream",
     "text": [
      ".. (time 0) Observation: 0\n",
      ".... Probability at state 0: 0.4500 (initial state)\n",
      ".... Probability at state 1: 0.0500 (initial state)\n",
      ".... Probability at state 2: 0.1750 (initial state)\n",
      ".... State probabilities: [0.66666667 0.07407407 0.25925926]\n",
      ".. (time 1) Observation: 0\n",
      "......Transition from state=0 to state=0\n",
      "        Calculation: \n",
      "        0.67 * 0.90 * 0.80\n",
      "......Transition from state=1 to state=1\n",
      "        Calculation: \n",
      "        0.07 * 0.90 * 0.20\n",
      "......Transition from state=2 to state=2\n",
      "        Calculation: \n",
      "        0.26 * 0.90 * 0.20\n",
      "......Transition from state=0 to state=0\n",
      "        Calculation: \n",
      "        0.67 * 0.20 * 0.05\n",
      "......Transition from state=1 to state=1\n",
      "        Calculation: \n",
      "        0.07 * 0.20 * 0.60\n",
      "......Transition from state=2 to state=2\n",
      "        Calculation: \n",
      "        0.26 * 0.20 * 0.30\n",
      "......Transition from state=0 to state=0\n",
      "        Calculation: \n",
      "        0.67 * 0.70 * 0.15\n",
      "......Transition from state=1 to state=1\n",
      "        Calculation: \n",
      "        0.07 * 0.70 * 0.20\n",
      "......Transition from state=2 to state=2\n",
      "        Calculation: \n",
      "        0.26 * 0.70 * 0.50\n",
      ".... State probabilities: [0.72754491 0.04191617 0.23053892]\n",
      ".. (time 2) Observation: 0\n",
      "......Transition from state=0 to state=0\n",
      "        Calculation: \n",
      "        0.73 * 0.90 * 0.80\n",
      "......Transition from state=1 to state=1\n",
      "        Calculation: \n",
      "        0.04 * 0.90 * 0.20\n",
      "......Transition from state=2 to state=2\n",
      "        Calculation: \n",
      "        0.23 * 0.90 * 0.20\n",
      "......Transition from state=0 to state=0\n",
      "        Calculation: \n",
      "        0.73 * 0.20 * 0.05\n",
      "......Transition from state=1 to state=1\n",
      "        Calculation: \n",
      "        0.04 * 0.20 * 0.60\n",
      "......Transition from state=2 to state=2\n",
      "        Calculation: \n",
      "        0.23 * 0.20 * 0.30\n",
      "......Transition from state=0 to state=0\n",
      "        Calculation: \n",
      "        0.73 * 0.70 * 0.15\n",
      "......Transition from state=1 to state=1\n",
      "        Calculation: \n",
      "        0.04 * 0.70 * 0.20\n",
      "......Transition from state=2 to state=2\n",
      "        Calculation: \n",
      "        0.23 * 0.70 * 0.50\n",
      ".... State probabilities: [0.75184188 0.03430323 0.21385489]\n",
      ".. (time 3) Observation: 1\n",
      "......Transition from state=0 to state=0\n",
      "        Calculation: \n",
      "        0.75 * 0.10 * 0.80\n",
      "......Transition from state=1 to state=1\n",
      "        Calculation: \n",
      "        0.03 * 0.10 * 0.20\n",
      "......Transition from state=2 to state=2\n",
      "        Calculation: \n",
      "        0.21 * 0.10 * 0.20\n",
      "......Transition from state=0 to state=0\n",
      "        Calculation: \n",
      "        0.75 * 0.80 * 0.05\n",
      "......Transition from state=1 to state=1\n",
      "        Calculation: \n",
      "        0.03 * 0.80 * 0.60\n",
      "......Transition from state=2 to state=2\n",
      "        Calculation: \n",
      "        0.21 * 0.80 * 0.30\n",
      "......Transition from state=0 to state=0\n",
      "        Calculation: \n",
      "        0.75 * 0.30 * 0.15\n",
      "......Transition from state=1 to state=1\n",
      "        Calculation: \n",
      "        0.03 * 0.30 * 0.20\n",
      "......Transition from state=2 to state=2\n",
      "        Calculation: \n",
      "        0.21 * 0.30 * 0.50\n",
      ".... State probabilities: [0.28193177 0.42375772 0.29431051]\n",
      ".. (time 4) Observation: 0\n",
      "......Transition from state=0 to state=0\n",
      "        Calculation: \n",
      "        0.28 * 0.90 * 0.80\n",
      "......Transition from state=1 to state=1\n",
      "        Calculation: \n",
      "        0.42 * 0.90 * 0.20\n",
      "......Transition from state=2 to state=2\n",
      "        Calculation: \n",
      "        0.29 * 0.90 * 0.20\n",
      "......Transition from state=0 to state=0\n",
      "        Calculation: \n",
      "        0.28 * 0.20 * 0.05\n",
      "......Transition from state=1 to state=1\n",
      "        Calculation: \n",
      "        0.42 * 0.20 * 0.60\n",
      "......Transition from state=2 to state=2\n",
      "        Calculation: \n",
      "        0.29 * 0.20 * 0.30\n",
      "......Transition from state=0 to state=0\n",
      "        Calculation: \n",
      "        0.28 * 0.70 * 0.15\n",
      "......Transition from state=1 to state=1\n",
      "        Calculation: \n",
      "        0.42 * 0.70 * 0.20\n",
      "......Transition from state=2 to state=2\n",
      "        Calculation: \n",
      "        0.29 * 0.70 * 0.50\n",
      ".... State probabilities: [0.557914   0.11977787 0.32230813]\n",
      ".. (time 5) Observation: 0\n",
      "......Transition from state=0 to state=0\n",
      "        Calculation: \n",
      "        0.56 * 0.90 * 0.80\n",
      "......Transition from state=1 to state=1\n",
      "        Calculation: \n",
      "        0.12 * 0.90 * 0.20\n",
      "......Transition from state=2 to state=2\n",
      "        Calculation: \n",
      "        0.32 * 0.90 * 0.20\n",
      "......Transition from state=0 to state=0\n",
      "        Calculation: \n",
      "        0.56 * 0.20 * 0.05\n",
      "......Transition from state=1 to state=1\n",
      "        Calculation: \n",
      "        0.12 * 0.20 * 0.60\n",
      "......Transition from state=2 to state=2\n",
      "        Calculation: \n",
      "        0.32 * 0.20 * 0.30\n",
      "......Transition from state=0 to state=0\n",
      "        Calculation: \n",
      "        0.56 * 0.70 * 0.15\n",
      "......Transition from state=1 to state=1\n",
      "        Calculation: \n",
      "        0.12 * 0.70 * 0.20\n",
      "......Transition from state=2 to state=2\n",
      "        Calculation: \n",
      "        0.32 * 0.70 * 0.50\n",
      ".... State probabilities: [0.67907217 0.05543917 0.26548866]\n",
      ".. (time 6) Observation: 1\n",
      "......Transition from state=0 to state=0\n",
      "        Calculation: \n",
      "        0.68 * 0.10 * 0.80\n",
      "......Transition from state=1 to state=1\n",
      "        Calculation: \n",
      "        0.06 * 0.10 * 0.20\n",
      "......Transition from state=2 to state=2\n",
      "        Calculation: \n",
      "        0.27 * 0.10 * 0.20\n",
      "......Transition from state=0 to state=0\n",
      "        Calculation: \n",
      "        0.68 * 0.80 * 0.05\n",
      "......Transition from state=1 to state=1\n",
      "        Calculation: \n",
      "        0.06 * 0.80 * 0.60\n",
      "......Transition from state=2 to state=2\n",
      "        Calculation: \n",
      "        0.27 * 0.80 * 0.30\n",
      "......Transition from state=0 to state=0\n",
      "        Calculation: \n",
      "        0.68 * 0.30 * 0.15\n",
      "......Transition from state=1 to state=1\n",
      "        Calculation: \n",
      "        0.06 * 0.30 * 0.20\n",
      "......Transition from state=2 to state=2\n",
      "        Calculation: \n",
      "        0.27 * 0.30 * 0.50\n",
      ".... State probabilities: [0.24110328 0.46633912 0.2925576 ]\n",
      ".. (time 7) Observation: 1\n",
      "......Transition from state=0 to state=0\n",
      "        Calculation: \n",
      "        0.24 * 0.10 * 0.80\n",
      "......Transition from state=1 to state=1\n",
      "        Calculation: \n",
      "        0.47 * 0.10 * 0.20\n",
      "......Transition from state=2 to state=2\n",
      "        Calculation: \n",
      "        0.29 * 0.10 * 0.20\n",
      "......Transition from state=0 to state=0\n",
      "        Calculation: \n",
      "        0.24 * 0.80 * 0.05\n",
      "......Transition from state=1 to state=1\n",
      "        Calculation: \n",
      "        0.47 * 0.80 * 0.60\n",
      "......Transition from state=2 to state=2\n",
      "        Calculation: \n",
      "        0.29 * 0.80 * 0.30\n",
      "......Transition from state=0 to state=0\n",
      "        Calculation: \n",
      "        0.24 * 0.30 * 0.15\n",
      "......Transition from state=1 to state=1\n",
      "        Calculation: \n",
      "        0.47 * 0.30 * 0.20\n",
      "......Transition from state=2 to state=2\n",
      "        Calculation: \n",
      "        0.29 * 0.30 * 0.50\n",
      ".... State probabilities: [0.08189068 0.72158412 0.1965252 ]\n",
      ".. (time 8) Observation: 0\n",
      "......Transition from state=0 to state=0\n",
      "        Calculation: \n",
      "        0.08 * 0.90 * 0.80\n",
      "......Transition from state=1 to state=1\n",
      "        Calculation: \n",
      "        0.72 * 0.90 * 0.20\n",
      "......Transition from state=2 to state=2\n",
      "        Calculation: \n",
      "        0.20 * 0.90 * 0.20\n",
      "......Transition from state=0 to state=0\n",
      "        Calculation: \n",
      "        0.08 * 0.20 * 0.05\n",
      "......Transition from state=1 to state=1\n",
      "        Calculation: \n",
      "        0.72 * 0.20 * 0.60\n",
      "......Transition from state=2 to state=2\n",
      "        Calculation: \n",
      "        0.20 * 0.20 * 0.30\n",
      "......Transition from state=0 to state=0\n",
      "        Calculation: \n",
      "        0.08 * 0.70 * 0.15\n",
      "......Transition from state=1 to state=1\n",
      "        Calculation: \n",
      "        0.72 * 0.70 * 0.20\n",
      "......Transition from state=2 to state=2\n",
      "        Calculation: \n",
      "        0.20 * 0.70 * 0.50\n",
      ".... State probabilities: [0.44681054 0.19767926 0.3555102 ]\n",
      ".. (time 9) Observation: 1\n",
      "......Transition from state=0 to state=0\n",
      "        Calculation: \n",
      "        0.45 * 0.10 * 0.80\n",
      "......Transition from state=1 to state=1\n",
      "        Calculation: \n",
      "        0.20 * 0.10 * 0.20\n",
      "......Transition from state=2 to state=2\n",
      "        Calculation: \n",
      "        0.36 * 0.10 * 0.20\n",
      "......Transition from state=0 to state=0\n",
      "        Calculation: \n",
      "        0.45 * 0.80 * 0.05\n",
      "......Transition from state=1 to state=1\n",
      "        Calculation: \n",
      "        0.20 * 0.80 * 0.60\n",
      "......Transition from state=2 to state=2\n",
      "        Calculation: \n",
      "        0.36 * 0.80 * 0.30\n",
      "......Transition from state=0 to state=0\n",
      "        Calculation: \n",
      "        0.45 * 0.30 * 0.15\n",
      "......Transition from state=1 to state=1\n",
      "        Calculation: \n",
      "        0.20 * 0.30 * 0.20\n",
      "......Transition from state=2 to state=2\n",
      "        Calculation: \n",
      "        0.36 * 0.30 * 0.50\n",
      ".... State probabilities: [0.14176559 0.59991196 0.25832245]\n"
     ]
    },
    {
     "ename": "NameError",
     "evalue": "name 'Answer' is not defined",
     "output_type": "error",
     "traceback": [
      "\u001b[1;31m---------------------------------------------------------------------------\u001b[0m",
      "\u001b[1;31mNameError\u001b[0m                                 Traceback (most recent call last)",
      "\u001b[1;32m<ipython-input-14-8f3ecded7b06>\u001b[0m in \u001b[0;36m<module>\u001b[1;34m\u001b[0m\n\u001b[0;32m      1\u001b[0m \u001b[1;31m### YOUR CODE HERE ###\u001b[0m\u001b[1;33m\u001b[0m\u001b[1;33m\u001b[0m\u001b[1;33m\u001b[0m\u001b[0m\n\u001b[0;32m      2\u001b[0m \u001b[0ma\u001b[0m \u001b[1;33m=\u001b[0m \u001b[0minit_and_recursion\u001b[0m\u001b[1;33m(\u001b[0m\u001b[0mE\u001b[0m\u001b[1;33m,\u001b[0m \u001b[0mS\u001b[0m\u001b[1;33m,\u001b[0m \u001b[0mP_init\u001b[0m\u001b[1;33m,\u001b[0m \u001b[0mP_emission\u001b[0m\u001b[1;33m,\u001b[0m \u001b[0mP_transition\u001b[0m\u001b[1;33m)\u001b[0m\u001b[1;33m\u001b[0m\u001b[1;33m\u001b[0m\u001b[0m\n\u001b[1;32m----> 3\u001b[1;33m \u001b[0mLast_State\u001b[0m \u001b[1;33m=\u001b[0m \u001b[0mtermination\u001b[0m\u001b[1;33m(\u001b[0m\u001b[0mAnswer\u001b[0m\u001b[1;33m)\u001b[0m\u001b[1;33m\u001b[0m\u001b[1;33m\u001b[0m\u001b[0m\n\u001b[0m\u001b[0;32m      4\u001b[0m \u001b[0mLast_State\u001b[0m\u001b[1;33m\u001b[0m\u001b[1;33m\u001b[0m\u001b[0m\n",
      "\u001b[1;31mNameError\u001b[0m: name 'Answer' is not defined"
     ]
    }
   ],
   "source": [
    "### YOUR CODE HERE ### \n",
    "a = init_and_recursion(E, S, P_init, P_emission, P_transition)\n",
    "Last_State = termination(Answer)\n",
    "Last_State"
   ]
  },
  {
   "cell_type": "markdown",
   "metadata": {
    "id": "i0NImz58WoFK"
   },
   "source": [
    "### [Question - Plot probabilities ]\n",
    "\n",
    "Use the [PyPlot](https://matplotlib.org/stable/tutorials/introductory/pyplot.html#:~:text=the%20pyplot%20interface.-,Intro%20to%20pyplot,the%20plot%20with%20labels%2C%20etc.) library to plot the transition probabilities over time."
   ]
  },
  {
   "cell_type": "code",
   "execution_count": 15,
   "metadata": {
    "ExecuteTime": {
     "end_time": "2022-06-21T23:52:33.735723Z",
     "start_time": "2022-06-21T23:52:33.358490Z"
    },
    "id": "y12aUJ0rWmtK"
   },
   "outputs": [
    {
     "data": {
      "image/png": "[encoded data removed]",
      "text/plain": [
       "<Figure size 432x288 with 1 Axes>"
      ]
     },
     "metadata": {
      "needs_background": "light"
     },
     "output_type": "display_data"
    }
   ],
   "source": [
    "### YOUR CODE HERE ### \n",
    "import matplotlib as ml\n",
    "import matplotlib.pyplot as plt\n",
    "plt.plot(a)\n",
    "plt.ylabel('Weather')\n",
    "plt.xlabel(\"prob\")\n",
    "plt.legend(['Sunny',\"Rainy\",\"Foggy\"])\n",
    "plt.show()"
   ]
  },
  {
   "cell_type": "code",
   "execution_count": null,
   "metadata": {},
   "outputs": [],
   "source": []
  },
  {
   "cell_type": "code",
   "execution_count": null,
   "metadata": {},
   "outputs": [],
   "source": []
  }
 ],
 "metadata": {
  "colab": {
   "collapsed_sections": [],
   "name": "eai6000-m04-hw.ipynb",
   "provenance": [],
   "toc_visible": true
  },
  "kernelspec": {
   "display_name": "Python 3",
   "language": "python",
   "name": "python3"
  },
  "language_info": {
   "codemirror_mode": {
    "name": "ipython",
    "version": 3
   },
   "file_extension": ".py",
   "mimetype": "text/x-python",
   "name": "python",
   "nbconvert_exporter": "python",
   "pygments_lexer": "ipython3",
   "version": "3.8.8"
  }
 },
 "nbformat": 4,
 "nbformat_minor": 1
}
