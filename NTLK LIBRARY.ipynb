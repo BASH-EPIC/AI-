{
 "cells": [
  {
   "cell_type": "markdown",
   "metadata": {
    "id": "AnJopp4tKV2K"
   },
   "source": [
    "PRAJAKTA SABLE"
   ]
  },
  {
   "cell_type": "markdown",
   "metadata": {
    "id": "FcEYi-90LTYt"
   },
   "source": [
    "####DATASET Downloaded From : -[Link](https://nlp.stanford.edu/sentiment/)"
   ]
  },
  {
   "cell_type": "code",
   "execution_count": 4,
   "metadata": {
    "ExecuteTime": {
     "end_time": "2022-07-04T02:51:25.360632Z",
     "start_time": "2022-07-04T02:51:24.499682Z"
    },
    "colab": {
     "base_uri": "https://localhost:8080/"
    },
    "id": "IFG1dI1DI2WF",
    "outputId": "28855c7c-7182-4b52-ef48-9b8d7a6b24df"
   },
   "outputs": [
    {
     "name": "stderr",
     "output_type": "stream",
     "text": [
      "[nltk_data] Downloading package punkt to C:\\Users\\Prajakta\n",
      "[nltk_data]     Sable\\AppData\\Roaming\\nltk_data...\n",
      "[nltk_data]   Package punkt is already up-to-date!\n",
      "[nltk_data] Downloading package stopwords to C:\\Users\\Prajakta\n",
      "[nltk_data]     Sable\\AppData\\Roaming\\nltk_data...\n",
      "[nltk_data]   Package stopwords is already up-to-date!\n"
     ]
    },
    {
     "data": {
      "text/plain": [
       "True"
      ]
     },
     "execution_count": 4,
     "metadata": {},
     "output_type": "execute_result"
    }
   ],
   "source": [
    "import nltk\n",
    "from nltk.stem import PorterStemmer\n",
    "from nltk.stem import SnowballStemmer \n",
    "from nltk import word_tokenize\n",
    "from nltk.corpus import stopwords\n",
    "from string import punctuation\n",
    "nltk.download('punkt')\n",
    "nltk.download('stopwords')"
   ]
  },
  {
   "cell_type": "code",
   "execution_count": 5,
   "metadata": {
    "ExecuteTime": {
     "end_time": "2022-07-04T02:51:27.920007Z",
     "start_time": "2022-07-04T02:51:27.564785Z"
    },
    "colab": {
     "base_uri": "https://localhost:8080/"
    },
    "id": "kDCnGrp2J4T8",
    "outputId": "91648d11-d49a-486f-b9b5-8cc35cd196fd"
   },
   "outputs": [
    {
     "name": "stdout",
     "output_type": "stream",
     "text": [
      "Unique Words in the dataset are= 4333\n"
     ]
    }
   ],
   "source": [
    "def fn():\n",
    "  with open('C:\\\\Users\\\\Prajakta Sable\\\\Desktop\\\\pg68423.txt', 'r', encoding='utf-8') as file:\n",
    "    dset = file.read().replace('\\n', '')\n",
    "\n",
    "  token=word_tokenize(dset)\n",
    "  token\n",
    "\n",
    "  token_lower=token\n",
    "  for i in range(len(token)):\n",
    "    token_lower[i]=token[i].lower()\n",
    "  token_lower\n",
    "\n",
    "  stop_en = set(stopwords.words('english')) \n",
    "  stop_en_wopunc = stop_en.union(set(punctuation))\n",
    "  stpwrd=([word for word in token_lower if word not in stop_en_wopunc])\n",
    "\n",
    "  stemmer_ps = PorterStemmer()  \n",
    "  dset_stem = [stemmer_ps.stem(word) for word in stpwrd]\n",
    "  dset_stem\n",
    "\n",
    "  unique = set(dset_stem)\n",
    "  print(\"Unique Words in the dataset are=\",len(unique))\n",
    "\n",
    "fn()"
   ]
  },
  {
   "cell_type": "code",
   "execution_count": null,
   "metadata": {},
   "outputs": [],
   "source": []
  }
 ],
 "metadata": {
  "colab": {
   "name": "Kelvina Pethani Assignment 6.ipynb",
   "provenance": []
  },
  "kernelspec": {
   "display_name": "Python 3",
   "language": "python",
   "name": "python3"
  },
  "language_info": {
   "codemirror_mode": {
    "name": "ipython",
    "version": 3
   },
   "file_extension": ".py",
   "mimetype": "text/x-python",
   "name": "python",
   "nbconvert_exporter": "python",
   "pygments_lexer": "ipython3",
   "version": "3.8.8"
  }
 },
 "nbformat": 4,
 "nbformat_minor": 1
}
